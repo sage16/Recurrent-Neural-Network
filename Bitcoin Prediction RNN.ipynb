{
 "cells": [
  {
   "cell_type": "markdown",
   "metadata": {},
   "source": [
    "### Import Libraries"
   ]
  },
  {
   "cell_type": "code",
   "execution_count": 1,
   "metadata": {},
   "outputs": [],
   "source": [
    "import pandas as pd\n",
    "import numpy as np\n",
    "import seaborn as sns\n",
    "import matplotlib.pyplot as plt\n",
    "%matplotlib inline\n",
    "import io\n",
    "import requests\n",
    "import json"
   ]
  },
  {
   "cell_type": "markdown",
   "metadata": {},
   "source": [
    "### Load Dataset"
   ]
  },
  {
   "cell_type": "code",
   "execution_count": 5,
   "metadata": {},
   "outputs": [
    {
     "data": {
      "text/html": [
       "<div>\n",
       "<style scoped>\n",
       "    .dataframe tbody tr th:only-of-type {\n",
       "        vertical-align: middle;\n",
       "    }\n",
       "\n",
       "    .dataframe tbody tr th {\n",
       "        vertical-align: top;\n",
       "    }\n",
       "\n",
       "    .dataframe thead th {\n",
       "        text-align: right;\n",
       "    }\n",
       "</style>\n",
       "<table border=\"1\" class=\"dataframe\">\n",
       "  <thead>\n",
       "    <tr style=\"text-align: right;\">\n",
       "      <th></th>\n",
       "      <th>high</th>\n",
       "      <th>low</th>\n",
       "      <th>open</th>\n",
       "      <th>volumefrom</th>\n",
       "      <th>volumeto</th>\n",
       "      <th>close</th>\n",
       "      <th>conversionType</th>\n",
       "      <th>conversionSymbol</th>\n",
       "    </tr>\n",
       "    <tr>\n",
       "      <th>time</th>\n",
       "      <th></th>\n",
       "      <th></th>\n",
       "      <th></th>\n",
       "      <th></th>\n",
       "      <th></th>\n",
       "      <th></th>\n",
       "      <th></th>\n",
       "      <th></th>\n",
       "    </tr>\n",
       "  </thead>\n",
       "  <tbody>\n",
       "    <tr>\n",
       "      <th>2016-03-15</th>\n",
       "      <td>417.37</td>\n",
       "      <td>412.31</td>\n",
       "      <td>414.31</td>\n",
       "      <td>48596.63</td>\n",
       "      <td>20227610.88</td>\n",
       "      <td>415.13</td>\n",
       "      <td>direct</td>\n",
       "      <td></td>\n",
       "    </tr>\n",
       "    <tr>\n",
       "      <th>2016-03-16</th>\n",
       "      <td>416.95</td>\n",
       "      <td>413.32</td>\n",
       "      <td>415.13</td>\n",
       "      <td>44535.24</td>\n",
       "      <td>18509954.18</td>\n",
       "      <td>415.91</td>\n",
       "      <td>direct</td>\n",
       "      <td></td>\n",
       "    </tr>\n",
       "    <tr>\n",
       "      <th>2016-03-17</th>\n",
       "      <td>419.56</td>\n",
       "      <td>415.33</td>\n",
       "      <td>415.91</td>\n",
       "      <td>43820.66</td>\n",
       "      <td>18409340.68</td>\n",
       "      <td>418.16</td>\n",
       "      <td>direct</td>\n",
       "      <td></td>\n",
       "    </tr>\n",
       "    <tr>\n",
       "      <th>2016-03-18</th>\n",
       "      <td>418.58</td>\n",
       "      <td>402.48</td>\n",
       "      <td>418.16</td>\n",
       "      <td>66068.03</td>\n",
       "      <td>27178165.73</td>\n",
       "      <td>408.16</td>\n",
       "      <td>direct</td>\n",
       "      <td></td>\n",
       "    </tr>\n",
       "    <tr>\n",
       "      <th>2016-03-19</th>\n",
       "      <td>410.49</td>\n",
       "      <td>402.13</td>\n",
       "      <td>408.16</td>\n",
       "      <td>36997.54</td>\n",
       "      <td>15084656.26</td>\n",
       "      <td>408.69</td>\n",
       "      <td>direct</td>\n",
       "      <td></td>\n",
       "    </tr>\n",
       "  </tbody>\n",
       "</table>\n",
       "</div>"
      ],
      "text/plain": [
       "              high     low    open  volumefrom     volumeto   close  \\\n",
       "time                                                                  \n",
       "2016-03-15  417.37  412.31  414.31    48596.63  20227610.88  415.13   \n",
       "2016-03-16  416.95  413.32  415.13    44535.24  18509954.18  415.91   \n",
       "2016-03-17  419.56  415.33  415.91    43820.66  18409340.68  418.16   \n",
       "2016-03-18  418.58  402.48  418.16    66068.03  27178165.73  408.16   \n",
       "2016-03-19  410.49  402.13  408.16    36997.54  15084656.26  408.69   \n",
       "\n",
       "           conversionType conversionSymbol  \n",
       "time                                        \n",
       "2016-03-15         direct                   \n",
       "2016-03-16         direct                   \n",
       "2016-03-17         direct                   \n",
       "2016-03-18         direct                   \n",
       "2016-03-19         direct                   "
      ]
     },
     "execution_count": 5,
     "metadata": {},
     "output_type": "execute_result"
    }
   ],
   "source": [
    "url = 'https://min-api.cryptocompare.com/data/histoday?fsym=BTC&tsym=USD&limit=2000'\n",
    "z= requests.get(url)\n",
    "df = pd.DataFrame(json.loads(z.content)[\"Data\"]).set_index('time')\n",
    "df.index = pd.to_datetime(df.index, unit='s')\n",
    "df.head()"
   ]
  },
  {
   "cell_type": "code",
   "execution_count": 6,
   "metadata": {},
   "outputs": [
    {
     "data": {
      "text/html": [
       "<div>\n",
       "<style scoped>\n",
       "    .dataframe tbody tr th:only-of-type {\n",
       "        vertical-align: middle;\n",
       "    }\n",
       "\n",
       "    .dataframe tbody tr th {\n",
       "        vertical-align: top;\n",
       "    }\n",
       "\n",
       "    .dataframe thead th {\n",
       "        text-align: right;\n",
       "    }\n",
       "</style>\n",
       "<table border=\"1\" class=\"dataframe\">\n",
       "  <thead>\n",
       "    <tr style=\"text-align: right;\">\n",
       "      <th></th>\n",
       "      <th>high</th>\n",
       "      <th>low</th>\n",
       "      <th>open</th>\n",
       "      <th>volumefrom</th>\n",
       "      <th>volumeto</th>\n",
       "      <th>close</th>\n",
       "      <th>conversionType</th>\n",
       "      <th>conversionSymbol</th>\n",
       "    </tr>\n",
       "    <tr>\n",
       "      <th>time</th>\n",
       "      <th></th>\n",
       "      <th></th>\n",
       "      <th></th>\n",
       "      <th></th>\n",
       "      <th></th>\n",
       "      <th></th>\n",
       "      <th></th>\n",
       "      <th></th>\n",
       "    </tr>\n",
       "  </thead>\n",
       "  <tbody>\n",
       "    <tr>\n",
       "      <th>2021-09-01</th>\n",
       "      <td>49062.05</td>\n",
       "      <td>46544.74</td>\n",
       "      <td>47159.26</td>\n",
       "      <td>31823.80</td>\n",
       "      <td>1.520961e+09</td>\n",
       "      <td>48840.01</td>\n",
       "      <td>direct</td>\n",
       "      <td></td>\n",
       "    </tr>\n",
       "    <tr>\n",
       "      <th>2021-09-02</th>\n",
       "      <td>50374.89</td>\n",
       "      <td>48632.70</td>\n",
       "      <td>48840.01</td>\n",
       "      <td>32516.15</td>\n",
       "      <td>1.615791e+09</td>\n",
       "      <td>49280.77</td>\n",
       "      <td>direct</td>\n",
       "      <td></td>\n",
       "    </tr>\n",
       "    <tr>\n",
       "      <th>2021-09-03</th>\n",
       "      <td>51056.15</td>\n",
       "      <td>48362.56</td>\n",
       "      <td>49280.77</td>\n",
       "      <td>38496.86</td>\n",
       "      <td>1.926046e+09</td>\n",
       "      <td>50019.51</td>\n",
       "      <td>direct</td>\n",
       "      <td></td>\n",
       "    </tr>\n",
       "    <tr>\n",
       "      <th>2021-09-04</th>\n",
       "      <td>50549.35</td>\n",
       "      <td>49501.12</td>\n",
       "      <td>50019.51</td>\n",
       "      <td>16795.12</td>\n",
       "      <td>8.398889e+08</td>\n",
       "      <td>49935.29</td>\n",
       "      <td>direct</td>\n",
       "      <td></td>\n",
       "    </tr>\n",
       "    <tr>\n",
       "      <th>2021-09-05</th>\n",
       "      <td>50907.45</td>\n",
       "      <td>49499.28</td>\n",
       "      <td>49935.29</td>\n",
       "      <td>13362.83</td>\n",
       "      <td>6.710558e+08</td>\n",
       "      <td>50879.03</td>\n",
       "      <td>direct</td>\n",
       "      <td></td>\n",
       "    </tr>\n",
       "  </tbody>\n",
       "</table>\n",
       "</div>"
      ],
      "text/plain": [
       "                high       low      open  volumefrom      volumeto     close  \\\n",
       "time                                                                           \n",
       "2021-09-01  49062.05  46544.74  47159.26    31823.80  1.520961e+09  48840.01   \n",
       "2021-09-02  50374.89  48632.70  48840.01    32516.15  1.615791e+09  49280.77   \n",
       "2021-09-03  51056.15  48362.56  49280.77    38496.86  1.926046e+09  50019.51   \n",
       "2021-09-04  50549.35  49501.12  50019.51    16795.12  8.398889e+08  49935.29   \n",
       "2021-09-05  50907.45  49499.28  49935.29    13362.83  6.710558e+08  50879.03   \n",
       "\n",
       "           conversionType conversionSymbol  \n",
       "time                                        \n",
       "2021-09-01         direct                   \n",
       "2021-09-02         direct                   \n",
       "2021-09-03         direct                   \n",
       "2021-09-04         direct                   \n",
       "2021-09-05         direct                   "
      ]
     },
     "execution_count": 6,
     "metadata": {},
     "output_type": "execute_result"
    }
   ],
   "source": [
    "df.tail()"
   ]
  },
  {
   "cell_type": "code",
   "execution_count": 7,
   "metadata": {},
   "outputs": [],
   "source": [
    "df = df.drop(df.iloc[:,-2:], axis='columns')"
   ]
  },
  {
   "cell_type": "code",
   "execution_count": 8,
   "metadata": {},
   "outputs": [
    {
     "data": {
      "text/html": [
       "<div>\n",
       "<style scoped>\n",
       "    .dataframe tbody tr th:only-of-type {\n",
       "        vertical-align: middle;\n",
       "    }\n",
       "\n",
       "    .dataframe tbody tr th {\n",
       "        vertical-align: top;\n",
       "    }\n",
       "\n",
       "    .dataframe thead th {\n",
       "        text-align: right;\n",
       "    }\n",
       "</style>\n",
       "<table border=\"1\" class=\"dataframe\">\n",
       "  <thead>\n",
       "    <tr style=\"text-align: right;\">\n",
       "      <th></th>\n",
       "      <th>high</th>\n",
       "      <th>low</th>\n",
       "      <th>open</th>\n",
       "      <th>volumefrom</th>\n",
       "      <th>volumeto</th>\n",
       "      <th>close</th>\n",
       "    </tr>\n",
       "    <tr>\n",
       "      <th>time</th>\n",
       "      <th></th>\n",
       "      <th></th>\n",
       "      <th></th>\n",
       "      <th></th>\n",
       "      <th></th>\n",
       "      <th></th>\n",
       "    </tr>\n",
       "  </thead>\n",
       "  <tbody>\n",
       "    <tr>\n",
       "      <th>2016-03-15</th>\n",
       "      <td>417.37</td>\n",
       "      <td>412.31</td>\n",
       "      <td>414.31</td>\n",
       "      <td>48596.63</td>\n",
       "      <td>20227610.88</td>\n",
       "      <td>415.13</td>\n",
       "    </tr>\n",
       "    <tr>\n",
       "      <th>2016-03-16</th>\n",
       "      <td>416.95</td>\n",
       "      <td>413.32</td>\n",
       "      <td>415.13</td>\n",
       "      <td>44535.24</td>\n",
       "      <td>18509954.18</td>\n",
       "      <td>415.91</td>\n",
       "    </tr>\n",
       "    <tr>\n",
       "      <th>2016-03-17</th>\n",
       "      <td>419.56</td>\n",
       "      <td>415.33</td>\n",
       "      <td>415.91</td>\n",
       "      <td>43820.66</td>\n",
       "      <td>18409340.68</td>\n",
       "      <td>418.16</td>\n",
       "    </tr>\n",
       "    <tr>\n",
       "      <th>2016-03-18</th>\n",
       "      <td>418.58</td>\n",
       "      <td>402.48</td>\n",
       "      <td>418.16</td>\n",
       "      <td>66068.03</td>\n",
       "      <td>27178165.73</td>\n",
       "      <td>408.16</td>\n",
       "    </tr>\n",
       "    <tr>\n",
       "      <th>2016-03-19</th>\n",
       "      <td>410.49</td>\n",
       "      <td>402.13</td>\n",
       "      <td>408.16</td>\n",
       "      <td>36997.54</td>\n",
       "      <td>15084656.26</td>\n",
       "      <td>408.69</td>\n",
       "    </tr>\n",
       "  </tbody>\n",
       "</table>\n",
       "</div>"
      ],
      "text/plain": [
       "              high     low    open  volumefrom     volumeto   close\n",
       "time                                                               \n",
       "2016-03-15  417.37  412.31  414.31    48596.63  20227610.88  415.13\n",
       "2016-03-16  416.95  413.32  415.13    44535.24  18509954.18  415.91\n",
       "2016-03-17  419.56  415.33  415.91    43820.66  18409340.68  418.16\n",
       "2016-03-18  418.58  402.48  418.16    66068.03  27178165.73  408.16\n",
       "2016-03-19  410.49  402.13  408.16    36997.54  15084656.26  408.69"
      ]
     },
     "execution_count": 8,
     "metadata": {},
     "output_type": "execute_result"
    }
   ],
   "source": [
    "df.head()"
   ]
  },
  {
   "cell_type": "code",
   "execution_count": 9,
   "metadata": {},
   "outputs": [],
   "source": [
    "dataset_test = df.loc['2021-01-01':]"
   ]
  },
  {
   "cell_type": "code",
   "execution_count": 10,
   "metadata": {},
   "outputs": [
    {
     "data": {
      "text/html": [
       "<div>\n",
       "<style scoped>\n",
       "    .dataframe tbody tr th:only-of-type {\n",
       "        vertical-align: middle;\n",
       "    }\n",
       "\n",
       "    .dataframe tbody tr th {\n",
       "        vertical-align: top;\n",
       "    }\n",
       "\n",
       "    .dataframe thead th {\n",
       "        text-align: right;\n",
       "    }\n",
       "</style>\n",
       "<table border=\"1\" class=\"dataframe\">\n",
       "  <thead>\n",
       "    <tr style=\"text-align: right;\">\n",
       "      <th></th>\n",
       "      <th>high</th>\n",
       "      <th>low</th>\n",
       "      <th>open</th>\n",
       "      <th>volumefrom</th>\n",
       "      <th>volumeto</th>\n",
       "      <th>close</th>\n",
       "    </tr>\n",
       "    <tr>\n",
       "      <th>time</th>\n",
       "      <th></th>\n",
       "      <th></th>\n",
       "      <th></th>\n",
       "      <th></th>\n",
       "      <th></th>\n",
       "      <th></th>\n",
       "    </tr>\n",
       "  </thead>\n",
       "  <tbody>\n",
       "    <tr>\n",
       "      <th>2021-01-01</th>\n",
       "      <td>29666.33</td>\n",
       "      <td>28748.21</td>\n",
       "      <td>28972.40</td>\n",
       "      <td>50841.73</td>\n",
       "      <td>1.487306e+09</td>\n",
       "      <td>29388.94</td>\n",
       "    </tr>\n",
       "    <tr>\n",
       "      <th>2021-01-02</th>\n",
       "      <td>33257.29</td>\n",
       "      <td>29036.26</td>\n",
       "      <td>29388.94</td>\n",
       "      <td>119214.75</td>\n",
       "      <td>3.750441e+09</td>\n",
       "      <td>32203.64</td>\n",
       "    </tr>\n",
       "    <tr>\n",
       "      <th>2021-01-03</th>\n",
       "      <td>34789.34</td>\n",
       "      <td>32010.59</td>\n",
       "      <td>32203.64</td>\n",
       "      <td>93510.99</td>\n",
       "      <td>3.132759e+09</td>\n",
       "      <td>33063.48</td>\n",
       "    </tr>\n",
       "    <tr>\n",
       "      <th>2021-01-04</th>\n",
       "      <td>33622.70</td>\n",
       "      <td>28493.29</td>\n",
       "      <td>33063.48</td>\n",
       "      <td>124909.68</td>\n",
       "      <td>3.901979e+09</td>\n",
       "      <td>32030.55</td>\n",
       "    </tr>\n",
       "    <tr>\n",
       "      <th>2021-01-05</th>\n",
       "      <td>34487.44</td>\n",
       "      <td>29985.29</td>\n",
       "      <td>32030.55</td>\n",
       "      <td>93735.47</td>\n",
       "      <td>3.037657e+09</td>\n",
       "      <td>34038.29</td>\n",
       "    </tr>\n",
       "    <tr>\n",
       "      <th>...</th>\n",
       "      <td>...</td>\n",
       "      <td>...</td>\n",
       "      <td>...</td>\n",
       "      <td>...</td>\n",
       "      <td>...</td>\n",
       "      <td>...</td>\n",
       "    </tr>\n",
       "    <tr>\n",
       "      <th>2021-09-01</th>\n",
       "      <td>49062.05</td>\n",
       "      <td>46544.74</td>\n",
       "      <td>47159.26</td>\n",
       "      <td>31823.80</td>\n",
       "      <td>1.520961e+09</td>\n",
       "      <td>48840.01</td>\n",
       "    </tr>\n",
       "    <tr>\n",
       "      <th>2021-09-02</th>\n",
       "      <td>50374.89</td>\n",
       "      <td>48632.70</td>\n",
       "      <td>48840.01</td>\n",
       "      <td>32516.15</td>\n",
       "      <td>1.615791e+09</td>\n",
       "      <td>49280.77</td>\n",
       "    </tr>\n",
       "    <tr>\n",
       "      <th>2021-09-03</th>\n",
       "      <td>51056.15</td>\n",
       "      <td>48362.56</td>\n",
       "      <td>49280.77</td>\n",
       "      <td>38496.86</td>\n",
       "      <td>1.926046e+09</td>\n",
       "      <td>50019.51</td>\n",
       "    </tr>\n",
       "    <tr>\n",
       "      <th>2021-09-04</th>\n",
       "      <td>50549.35</td>\n",
       "      <td>49501.12</td>\n",
       "      <td>50019.51</td>\n",
       "      <td>16795.12</td>\n",
       "      <td>8.398889e+08</td>\n",
       "      <td>49935.29</td>\n",
       "    </tr>\n",
       "    <tr>\n",
       "      <th>2021-09-05</th>\n",
       "      <td>50907.45</td>\n",
       "      <td>49499.28</td>\n",
       "      <td>49935.29</td>\n",
       "      <td>13362.83</td>\n",
       "      <td>6.710558e+08</td>\n",
       "      <td>50879.03</td>\n",
       "    </tr>\n",
       "  </tbody>\n",
       "</table>\n",
       "<p>248 rows × 6 columns</p>\n",
       "</div>"
      ],
      "text/plain": [
       "                high       low      open  volumefrom      volumeto     close\n",
       "time                                                                        \n",
       "2021-01-01  29666.33  28748.21  28972.40    50841.73  1.487306e+09  29388.94\n",
       "2021-01-02  33257.29  29036.26  29388.94   119214.75  3.750441e+09  32203.64\n",
       "2021-01-03  34789.34  32010.59  32203.64    93510.99  3.132759e+09  33063.48\n",
       "2021-01-04  33622.70  28493.29  33063.48   124909.68  3.901979e+09  32030.55\n",
       "2021-01-05  34487.44  29985.29  32030.55    93735.47  3.037657e+09  34038.29\n",
       "...              ...       ...       ...         ...           ...       ...\n",
       "2021-09-01  49062.05  46544.74  47159.26    31823.80  1.520961e+09  48840.01\n",
       "2021-09-02  50374.89  48632.70  48840.01    32516.15  1.615791e+09  49280.77\n",
       "2021-09-03  51056.15  48362.56  49280.77    38496.86  1.926046e+09  50019.51\n",
       "2021-09-04  50549.35  49501.12  50019.51    16795.12  8.398889e+08  49935.29\n",
       "2021-09-05  50907.45  49499.28  49935.29    13362.83  6.710558e+08  50879.03\n",
       "\n",
       "[248 rows x 6 columns]"
      ]
     },
     "execution_count": 10,
     "metadata": {},
     "output_type": "execute_result"
    }
   ],
   "source": [
    "dataset_test"
   ]
  },
  {
   "cell_type": "code",
   "execution_count": 11,
   "metadata": {},
   "outputs": [],
   "source": [
    "dataset_train = df.loc[:'2020-12-31']"
   ]
  },
  {
   "cell_type": "code",
   "execution_count": 12,
   "metadata": {
    "scrolled": true
   },
   "outputs": [
    {
     "data": {
      "text/html": [
       "<div>\n",
       "<style scoped>\n",
       "    .dataframe tbody tr th:only-of-type {\n",
       "        vertical-align: middle;\n",
       "    }\n",
       "\n",
       "    .dataframe tbody tr th {\n",
       "        vertical-align: top;\n",
       "    }\n",
       "\n",
       "    .dataframe thead th {\n",
       "        text-align: right;\n",
       "    }\n",
       "</style>\n",
       "<table border=\"1\" class=\"dataframe\">\n",
       "  <thead>\n",
       "    <tr style=\"text-align: right;\">\n",
       "      <th></th>\n",
       "      <th>high</th>\n",
       "      <th>low</th>\n",
       "      <th>open</th>\n",
       "      <th>volumefrom</th>\n",
       "      <th>volumeto</th>\n",
       "      <th>close</th>\n",
       "    </tr>\n",
       "    <tr>\n",
       "      <th>time</th>\n",
       "      <th></th>\n",
       "      <th></th>\n",
       "      <th></th>\n",
       "      <th></th>\n",
       "      <th></th>\n",
       "      <th></th>\n",
       "    </tr>\n",
       "  </thead>\n",
       "  <tbody>\n",
       "    <tr>\n",
       "      <th>2016-03-15</th>\n",
       "      <td>417.37</td>\n",
       "      <td>412.31</td>\n",
       "      <td>414.31</td>\n",
       "      <td>48596.63</td>\n",
       "      <td>20227610.88</td>\n",
       "      <td>415.13</td>\n",
       "    </tr>\n",
       "    <tr>\n",
       "      <th>2016-03-16</th>\n",
       "      <td>416.95</td>\n",
       "      <td>413.32</td>\n",
       "      <td>415.13</td>\n",
       "      <td>44535.24</td>\n",
       "      <td>18509954.18</td>\n",
       "      <td>415.91</td>\n",
       "    </tr>\n",
       "    <tr>\n",
       "      <th>2016-03-17</th>\n",
       "      <td>419.56</td>\n",
       "      <td>415.33</td>\n",
       "      <td>415.91</td>\n",
       "      <td>43820.66</td>\n",
       "      <td>18409340.68</td>\n",
       "      <td>418.16</td>\n",
       "    </tr>\n",
       "    <tr>\n",
       "      <th>2016-03-18</th>\n",
       "      <td>418.58</td>\n",
       "      <td>402.48</td>\n",
       "      <td>418.16</td>\n",
       "      <td>66068.03</td>\n",
       "      <td>27178165.73</td>\n",
       "      <td>408.16</td>\n",
       "    </tr>\n",
       "    <tr>\n",
       "      <th>2016-03-19</th>\n",
       "      <td>410.49</td>\n",
       "      <td>402.13</td>\n",
       "      <td>408.16</td>\n",
       "      <td>36997.54</td>\n",
       "      <td>15084656.26</td>\n",
       "      <td>408.69</td>\n",
       "    </tr>\n",
       "  </tbody>\n",
       "</table>\n",
       "</div>"
      ],
      "text/plain": [
       "              high     low    open  volumefrom     volumeto   close\n",
       "time                                                               \n",
       "2016-03-15  417.37  412.31  414.31    48596.63  20227610.88  415.13\n",
       "2016-03-16  416.95  413.32  415.13    44535.24  18509954.18  415.91\n",
       "2016-03-17  419.56  415.33  415.91    43820.66  18409340.68  418.16\n",
       "2016-03-18  418.58  402.48  418.16    66068.03  27178165.73  408.16\n",
       "2016-03-19  410.49  402.13  408.16    36997.54  15084656.26  408.69"
      ]
     },
     "execution_count": 12,
     "metadata": {},
     "output_type": "execute_result"
    }
   ],
   "source": [
    "dataset_train.head()"
   ]
  },
  {
   "cell_type": "code",
   "execution_count": 13,
   "metadata": {},
   "outputs": [],
   "source": [
    "train_set = dataset_train.iloc[:, -1:].values"
   ]
  },
  {
   "cell_type": "markdown",
   "metadata": {},
   "source": [
    "### Feature Scaling"
   ]
  },
  {
   "cell_type": "code",
   "execution_count": 14,
   "metadata": {},
   "outputs": [],
   "source": [
    "from sklearn.preprocessing import MinMaxScaler\n",
    "sc = MinMaxScaler(feature_range = (0, 1))\n",
    "train_set_scaled = sc.fit_transform(train_set)"
   ]
  },
  {
   "cell_type": "markdown",
   "metadata": {},
   "source": [
    "### Create 60 TimeSteps and 1 Output"
   ]
  },
  {
   "cell_type": "code",
   "execution_count": 16,
   "metadata": {},
   "outputs": [],
   "source": [
    "X_train = []\n",
    "y_train = []\n",
    "for i in range(60, 1753):\n",
    "    X_train.append(train_set_scaled[i-60:i, 0])\n",
    "    y_train.append(train_set_scaled[i, 0])\n",
    "X_train, y_train = np.array(X_train), np.array(y_train)"
   ]
  },
  {
   "cell_type": "markdown",
   "metadata": {},
   "source": [
    "### Reshape"
   ]
  },
  {
   "cell_type": "code",
   "execution_count": 17,
   "metadata": {},
   "outputs": [],
   "source": [
    "X_train = np.reshape(X_train, (X_train.shape[0], X_train.shape[1], 1))\n"
   ]
  },
  {
   "cell_type": "markdown",
   "metadata": {},
   "source": [
    "## Build and Train RNN"
   ]
  },
  {
   "cell_type": "markdown",
   "metadata": {},
   "source": [
    "### Import Keras Libraries"
   ]
  },
  {
   "cell_type": "code",
   "execution_count": 18,
   "metadata": {},
   "outputs": [],
   "source": [
    "from keras.models import Sequential\n",
    "from keras.layers import Dense\n",
    "from keras.layers import LSTM\n",
    "from keras.layers import Dropout"
   ]
  },
  {
   "cell_type": "markdown",
   "metadata": {},
   "source": [
    "### Initialize RNN"
   ]
  },
  {
   "cell_type": "code",
   "execution_count": 19,
   "metadata": {},
   "outputs": [],
   "source": [
    "regressor = Sequential()"
   ]
  },
  {
   "cell_type": "markdown",
   "metadata": {},
   "source": [
    "### Adding the LSTM layers and some Dropout regularisation"
   ]
  },
  {
   "cell_type": "code",
   "execution_count": 20,
   "metadata": {},
   "outputs": [],
   "source": [
    "regressor.add(LSTM(units = 50, return_sequences = True, input_shape = (X_train.shape[1], 1)))\n",
    "regressor.add(Dropout(0.2))"
   ]
  },
  {
   "cell_type": "code",
   "execution_count": 21,
   "metadata": {},
   "outputs": [],
   "source": [
    "regressor.add(LSTM(units = 50, return_sequences = True))\n",
    "regressor.add(Dropout(0.2))"
   ]
  },
  {
   "cell_type": "code",
   "execution_count": 22,
   "metadata": {},
   "outputs": [],
   "source": [
    "regressor.add(LSTM(units = 50, return_sequences = True))\n",
    "regressor.add(Dropout(0.2))"
   ]
  },
  {
   "cell_type": "code",
   "execution_count": 23,
   "metadata": {},
   "outputs": [],
   "source": [
    "regressor.add(LSTM(units = 50))\n",
    "regressor.add(Dropout(0.2))"
   ]
  },
  {
   "cell_type": "markdown",
   "metadata": {},
   "source": [
    "### Add Output Layer"
   ]
  },
  {
   "cell_type": "code",
   "execution_count": 24,
   "metadata": {},
   "outputs": [],
   "source": [
    "regressor.add(Dense(units = 1))"
   ]
  },
  {
   "cell_type": "markdown",
   "metadata": {},
   "source": [
    "### Compile RNN"
   ]
  },
  {
   "cell_type": "code",
   "execution_count": 28,
   "metadata": {},
   "outputs": [],
   "source": [
    "regressor.compile(optimizer = 'adam', loss = 'mean_squared_error')"
   ]
  },
  {
   "cell_type": "markdown",
   "metadata": {},
   "source": [
    "### Fit RNN to Train Set"
   ]
  },
  {
   "cell_type": "code",
   "execution_count": 29,
   "metadata": {},
   "outputs": [
    {
     "name": "stdout",
     "output_type": "stream",
     "text": [
      "Epoch 1/100\n",
      "53/53 [==============================] - 56s 114ms/step - loss: 0.0181\n",
      "Epoch 2/100\n",
      "53/53 [==============================] - 6s 113ms/step - loss: 0.0026\n",
      "Epoch 3/100\n",
      "53/53 [==============================] - 6s 114ms/step - loss: 0.0024\n",
      "Epoch 4/100\n",
      "53/53 [==============================] - 6s 114ms/step - loss: 0.0020\n",
      "Epoch 5/100\n",
      "53/53 [==============================] - 6s 113ms/step - loss: 0.0025\n",
      "Epoch 6/100\n",
      "53/53 [==============================] - 6s 114ms/step - loss: 0.0018\n",
      "Epoch 7/100\n",
      "53/53 [==============================] - 6s 113ms/step - loss: 0.0017\n",
      "Epoch 8/100\n",
      "53/53 [==============================] - 6s 114ms/step - loss: 0.0021\n",
      "Epoch 9/100\n",
      "53/53 [==============================] - 6s 113ms/step - loss: 0.0019\n",
      "Epoch 10/100\n",
      "53/53 [==============================] - 6s 114ms/step - loss: 0.0013\n",
      "Epoch 11/100\n",
      "53/53 [==============================] - 6s 114ms/step - loss: 0.0014\n",
      "Epoch 12/100\n",
      "53/53 [==============================] - 6s 119ms/step - loss: 0.0014\n",
      "Epoch 13/100\n",
      "53/53 [==============================] - 6s 114ms/step - loss: 0.0013\n",
      "Epoch 14/100\n",
      "53/53 [==============================] - 6s 113ms/step - loss: 0.0011\n",
      "Epoch 15/100\n",
      "53/53 [==============================] - 6s 115ms/step - loss: 0.0015\n",
      "Epoch 16/100\n",
      "53/53 [==============================] - 6s 117ms/step - loss: 0.0014\n",
      "Epoch 17/100\n",
      "53/53 [==============================] - 6s 115ms/step - loss: 0.0010\n",
      "Epoch 18/100\n",
      "53/53 [==============================] - 6s 113ms/step - loss: 9.7320e-04\n",
      "Epoch 19/100\n",
      "53/53 [==============================] - 6s 114ms/step - loss: 0.0011\n",
      "Epoch 20/100\n",
      "53/53 [==============================] - 6s 113ms/step - loss: 9.4846e-04\n",
      "Epoch 21/100\n",
      "53/53 [==============================] - 6s 113ms/step - loss: 9.1675e-04\n",
      "Epoch 22/100\n",
      "53/53 [==============================] - 6s 114ms/step - loss: 9.7227e-04\n",
      "Epoch 23/100\n",
      "53/53 [==============================] - 6s 115ms/step - loss: 0.0010\n",
      "Epoch 24/100\n",
      "53/53 [==============================] - 6s 115ms/step - loss: 0.0011\n",
      "Epoch 25/100\n",
      "53/53 [==============================] - 6s 114ms/step - loss: 9.6983e-04\n",
      "Epoch 26/100\n",
      "53/53 [==============================] - 6s 115ms/step - loss: 9.0393e-04\n",
      "Epoch 27/100\n",
      "53/53 [==============================] - 6s 115ms/step - loss: 8.4232e-04\n",
      "Epoch 28/100\n",
      "53/53 [==============================] - 6s 114ms/step - loss: 7.4450e-04\n",
      "Epoch 29/100\n",
      "53/53 [==============================] - 6s 115ms/step - loss: 0.0011\n",
      "Epoch 30/100\n",
      "53/53 [==============================] - 6s 115ms/step - loss: 9.0711e-04\n",
      "Epoch 31/100\n",
      "53/53 [==============================] - 6s 114ms/step - loss: 7.5113e-04\n",
      "Epoch 32/100\n",
      "53/53 [==============================] - 7s 125ms/step - loss: 8.4951e-04\n",
      "Epoch 33/100\n",
      "53/53 [==============================] - 6s 115ms/step - loss: 8.3748e-04\n",
      "Epoch 34/100\n",
      "53/53 [==============================] - 6s 116ms/step - loss: 7.5792e-04\n",
      "Epoch 35/100\n",
      "53/53 [==============================] - 6s 115ms/step - loss: 8.7101e-04\n",
      "Epoch 36/100\n",
      "53/53 [==============================] - 6s 115ms/step - loss: 7.8683e-04\n",
      "Epoch 37/100\n",
      "53/53 [==============================] - 6s 115ms/step - loss: 7.7893e-04\n",
      "Epoch 38/100\n",
      "53/53 [==============================] - 6s 115ms/step - loss: 8.2077e-04\n",
      "Epoch 39/100\n",
      "53/53 [==============================] - 6s 117ms/step - loss: 8.1543e-04\n",
      "Epoch 40/100\n",
      "53/53 [==============================] - 6s 120ms/step - loss: 7.7296e-04\n",
      "Epoch 41/100\n",
      "53/53 [==============================] - 6s 122ms/step - loss: 7.3352e-04\n",
      "Epoch 42/100\n",
      "53/53 [==============================] - 7s 125ms/step - loss: 8.8446e-04\n",
      "Epoch 43/100\n",
      "53/53 [==============================] - 6s 111ms/step - loss: 7.3746e-04\n",
      "Epoch 44/100\n",
      "53/53 [==============================] - 7s 124ms/step - loss: 7.0913e-04\n",
      "Epoch 45/100\n",
      "53/53 [==============================] - 6s 113ms/step - loss: 6.9599e-04\n",
      "Epoch 46/100\n",
      "53/53 [==============================] - 6s 111ms/step - loss: 7.1107e-04\n",
      "Epoch 47/100\n",
      "53/53 [==============================] - 6s 111ms/step - loss: 7.7419e-04\n",
      "Epoch 48/100\n",
      "53/53 [==============================] - 6s 110ms/step - loss: 6.5978e-04\n",
      "Epoch 49/100\n",
      "53/53 [==============================] - 6s 116ms/step - loss: 6.8881e-04\n",
      "Epoch 50/100\n",
      "53/53 [==============================] - 6s 114ms/step - loss: 6.5562e-04\n",
      "Epoch 51/100\n",
      "53/53 [==============================] - 6s 111ms/step - loss: 7.0459e-04\n",
      "Epoch 52/100\n",
      "53/53 [==============================] - 6s 111ms/step - loss: 6.7108e-04\n",
      "Epoch 53/100\n",
      "53/53 [==============================] - 6s 109ms/step - loss: 7.1391e-04\n",
      "Epoch 54/100\n",
      "53/53 [==============================] - 9s 168ms/step - loss: 6.6083e-04\n",
      "Epoch 55/100\n",
      "53/53 [==============================] - 9s 163ms/step - loss: 6.5349e-04\n",
      "Epoch 56/100\n",
      "53/53 [==============================] - 7s 135ms/step - loss: 5.6576e-04\n",
      "Epoch 57/100\n",
      "53/53 [==============================] - 8s 143ms/step - loss: 5.7940e-04\n",
      "Epoch 58/100\n",
      "53/53 [==============================] - 8s 142ms/step - loss: 6.5419e-04\n",
      "Epoch 59/100\n",
      "53/53 [==============================] - 7s 141ms/step - loss: 5.9232e-04\n",
      "Epoch 60/100\n",
      "53/53 [==============================] - 9s 169ms/step - loss: 6.0811e-04\n",
      "Epoch 61/100\n",
      "53/53 [==============================] - 9s 173ms/step - loss: 6.1149e-04 6s - ETA: 3s \n",
      "Epoch 62/100\n",
      "53/53 [==============================] - 8s 145ms/step - loss: 6.3618e-04\n",
      "Epoch 63/100\n",
      "53/53 [==============================] - 8s 152ms/step - loss: 6.8230e-04\n",
      "Epoch 64/100\n",
      "53/53 [==============================] - 8s 148ms/step - loss: 5.9953e-04\n",
      "Epoch 65/100\n",
      "53/53 [==============================] - 7s 136ms/step - loss: 5.4751e-04\n",
      "Epoch 66/100\n",
      "53/53 [==============================] - 8s 147ms/step - loss: 5.6973e-04\n",
      "Epoch 67/100\n",
      "53/53 [==============================] - 8s 156ms/step - loss: 5.3371e-04\n",
      "Epoch 68/100\n",
      "53/53 [==============================] - 8s 149ms/step - loss: 4.5398e-04\n",
      "Epoch 69/100\n",
      "53/53 [==============================] - 7s 141ms/step - loss: 6.4030e-04\n",
      "Epoch 70/100\n",
      "53/53 [==============================] - 7s 140ms/step - loss: 6.4091e-04\n",
      "Epoch 71/100\n",
      "53/53 [==============================] - 8s 143ms/step - loss: 5.8687e-04\n",
      "Epoch 72/100\n",
      "53/53 [==============================] - 8s 149ms/step - loss: 5.6479e-04\n",
      "Epoch 73/100\n",
      "53/53 [==============================] - 9s 167ms/step - loss: 5.2344e-04\n",
      "Epoch 74/100\n",
      "53/53 [==============================] - 9s 162ms/step - loss: 5.4932e-04\n",
      "Epoch 75/100\n",
      "53/53 [==============================] - 8s 154ms/step - loss: 5.5398e-04\n",
      "Epoch 76/100\n",
      "53/53 [==============================] - 8s 156ms/step - loss: 5.8611e-04\n",
      "Epoch 77/100\n",
      "53/53 [==============================] - 6s 115ms/step - loss: 5.5778e-04\n",
      "Epoch 78/100\n",
      "53/53 [==============================] - 7s 142ms/step - loss: 4.7730e-04\n",
      "Epoch 79/100\n",
      "53/53 [==============================] - 7s 133ms/step - loss: 5.4745e-04\n",
      "Epoch 80/100\n",
      "53/53 [==============================] - 7s 133ms/step - loss: 5.2416e-04\n",
      "Epoch 81/100\n",
      "53/53 [==============================] - 7s 132ms/step - loss: 5.1057e-04\n",
      "Epoch 82/100\n",
      "53/53 [==============================] - 7s 134ms/step - loss: 4.2935e-04\n",
      "Epoch 83/100\n",
      "53/53 [==============================] - 7s 134ms/step - loss: 5.4349e-04\n",
      "Epoch 84/100\n",
      "53/53 [==============================] - 7s 133ms/step - loss: 4.6046e-04\n",
      "Epoch 85/100\n",
      "53/53 [==============================] - 7s 129ms/step - loss: 6.9752e-04\n",
      "Epoch 86/100\n",
      "53/53 [==============================] - 7s 138ms/step - loss: 5.6706e-04\n",
      "Epoch 87/100\n",
      "53/53 [==============================] - 7s 135ms/step - loss: 5.5582e-04\n",
      "Epoch 88/100\n",
      "53/53 [==============================] - 7s 134ms/step - loss: 6.2137e-04\n",
      "Epoch 89/100\n",
      "53/53 [==============================] - 8s 149ms/step - loss: 4.3741e-04\n",
      "Epoch 90/100\n",
      "53/53 [==============================] - 8s 143ms/step - loss: 4.7663e-04\n",
      "Epoch 91/100\n",
      "53/53 [==============================] - 8s 144ms/step - loss: 6.2467e-04\n",
      "Epoch 92/100\n",
      "53/53 [==============================] - 8s 143ms/step - loss: 5.3510e-04\n",
      "Epoch 93/100\n",
      "53/53 [==============================] - 7s 131ms/step - loss: 5.1106e-04\n",
      "Epoch 94/100\n",
      "53/53 [==============================] - 7s 140ms/step - loss: 5.3051e-04\n",
      "Epoch 95/100\n",
      "53/53 [==============================] - 8s 145ms/step - loss: 5.3856e-04\n",
      "Epoch 96/100\n"
     ]
    },
    {
     "name": "stdout",
     "output_type": "stream",
     "text": [
      "53/53 [==============================] - 8s 143ms/step - loss: 7.0270e-04\n",
      "Epoch 97/100\n",
      "53/53 [==============================] - 7s 138ms/step - loss: 6.4178e-04\n",
      "Epoch 98/100\n",
      "53/53 [==============================] - 8s 143ms/step - loss: 5.5056e-04\n",
      "Epoch 99/100\n",
      "53/53 [==============================] - 8s 153ms/step - loss: 5.3932e-04\n",
      "Epoch 100/100\n",
      "53/53 [==============================] - 7s 136ms/step - loss: 4.8612e-04\n"
     ]
    },
    {
     "data": {
      "text/plain": [
       "<keras.callbacks.History at 0x224c31cf130>"
      ]
     },
     "execution_count": 29,
     "metadata": {},
     "output_type": "execute_result"
    }
   ],
   "source": [
    "regressor.fit(X_train, y_train, epochs = 100, batch_size = 32)"
   ]
  },
  {
   "cell_type": "markdown",
   "metadata": {},
   "source": [
    "## Making the predictions and visualising the results¶"
   ]
  },
  {
   "cell_type": "code",
   "execution_count": 30,
   "metadata": {},
   "outputs": [],
   "source": [
    "real_bitcoin_price = dataset_test.iloc[:, -1:].values"
   ]
  },
  {
   "cell_type": "code",
   "execution_count": 35,
   "metadata": {},
   "outputs": [
    {
     "data": {
      "text/plain": [
       "(248, 1)"
      ]
     },
     "execution_count": 35,
     "metadata": {},
     "output_type": "execute_result"
    }
   ],
   "source": [
    "real_bitcoin_price.shape"
   ]
  },
  {
   "cell_type": "markdown",
   "metadata": {},
   "source": [
    "### Getting the predicted bitcoin price of 2021"
   ]
  },
  {
   "cell_type": "code",
   "execution_count": 36,
   "metadata": {},
   "outputs": [],
   "source": [
    "dataset_total = pd.concat((dataset_train['close'], dataset_test['close']), axis = 0)\n",
    "inputs = dataset_total[len(dataset_total) - len(dataset_test) - 60:].values\n",
    "inputs = inputs.reshape(-1,1)\n",
    "inputs = sc.transform(inputs)\n",
    "X_test = []\n",
    "for i in range(60, 308):\n",
    "    X_test.append(inputs[i-60:i, 0])\n",
    "X_test = np.array(X_test)\n",
    "X_test = np.reshape(X_test, (X_test.shape[0], X_test.shape[1], 1))\n",
    "predicted_bitcoin_price = regressor.predict(X_test)\n",
    "predicted_bitcoin_price = sc.inverse_transform(predicted_bitcoin_price)"
   ]
  },
  {
   "cell_type": "markdown",
   "metadata": {},
   "source": [
    "### Visualising the results"
   ]
  },
  {
   "cell_type": "code",
   "execution_count": 37,
   "metadata": {},
   "outputs": [
    {
     "data": {
      "image/png": "[encoded data removed]",
      "text/plain": [
       "<Figure size 1224x720 with 1 Axes>"
      ]
     },
     "metadata": {
      "needs_background": "light"
     },
     "output_type": "display_data"
    }
   ],
   "source": [
    "plt.figure(figsize=(17,10))\n",
    "plt.plot(real_bitcoin_price, color = 'red', label = 'Real Bitcoin Price')\n",
    "plt.plot(predicted_bitcoin_price, color = 'blue', label = 'Predicted Bitcoin Price')\n",
    "plt.title('Bitcoin Price Prediction')\n",
    "plt.xlabel('Time')\n",
    "plt.ylabel('Bitcoin Price')\n",
    "plt.legend()\n",
    "plt.grid()\n",
    "plt.show()"
   ]
  },
  {
   "cell_type": "code",
   "execution_count": 38,
   "metadata": {},
   "outputs": [],
   "source": [
    "from sklearn.metrics import accuracy_score"
   ]
  },
  {
   "cell_type": "code",
   "execution_count": null,
   "metadata": {},
   "outputs": [],
   "source": []
  },
  {
   "cell_type": "code",
   "execution_count": null,
   "metadata": {},
   "outputs": [],
   "source": []
  }
 ],
 "metadata": {
  "kernelspec": {
   "display_name": "Python 3",
   "language": "python",
   "name": "python3"
  },
  "language_info": {
   "codemirror_mode": {
    "name": "ipython",
    "version": 3
   },
   "file_extension": ".py",
   "mimetype": "text/x-python",
   "name": "python",
   "nbconvert_exporter": "python",
   "pygments_lexer": "ipython3",
   "version": "3.9.1"
  }
 },
 "nbformat": 4,
 "nbformat_minor": 4
}
